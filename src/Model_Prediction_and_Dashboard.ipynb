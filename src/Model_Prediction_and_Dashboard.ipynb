# ===============================
# ✅ IMPORT LIBRARIES
# ===============================
import gradio as gr
import joblib
import ipaddress
import pandas as pd
import numpy as np
import matplotlib.pyplot as plt
import os
import hashlib

# ===============================
# ✅ LOAD MODEL
# ===============================
model_file_path = "/content/drive/MyDrive/Colab Notebooks/trained_model_RF.pkl"
model = joblib.load(model_file_path)
model_features = getattr(model, 'feature_names_in_')
print("✅ Model loaded successfully!")

# ===============================
# ✅ KNOWN PUBLIC DNS IPs
# ===============================
PUBLIC_DNS_IPS = {
    "8.8.8.8": "Google Public DNS (Primary)",
    "8.8.4.4": "Google Public DNS (Secondary)",
    "1.1.1.1": "Cloudflare DNS (Primary)",
    "1.0.0.1": "Cloudflare DNS (Secondary)",
    "9.9.9.9": "Quad9 DNS",
    "208.67.222.222": "OpenDNS (Cisco)",
    "208.67.220.220": "OpenDNS (Cisco)"
}

# ===============================
# ✅ USER AUTH FUNCTIONS
# ===============================
USER_FILE = "users.csv"

def hash_password(password):
    return hashlib.sha256(password.encode()).hexdigest()

def load_users():
    if os.path.exists(USER_FILE):
        return pd.read_csv(USER_FILE)
    else:
        return pd.DataFrame(columns=["username", "password"])

def save_user(username, password):
    users = load_users()
    if username in users["username"].values:
        return "⚠️ Username already exists!"
    new_user = pd.DataFrame([[username, hash_password(password)]], columns=["username", "password"])
    users = pd.concat([users, new_user], ignore_index=True)
    users.to_csv(USER_FILE, index=False)
    return "✅ Signup successful! Please login to continue."

def verify_login(username, password):
    users = load_users()
    hashed = hash_password(password)
    if ((users["username"] == username) & (users["password"] == hashed)).any():
        return True
    return False

# ===============================
# ✅ HELPER FUNCTIONS
# ===============================
def is_private_ip(ip_str):
    try:
        return ipaddress.ip_address(ip_str).is_private
    except:
        return False

def is_public_dns_ip(ip_str):
    return ip_str.strip() in PUBLIC_DNS_IPS

def parse_ip(ip_str):
    try:
        parts = ip_str.split('.')
        if len(parts) != 4:
            return None
        return [int(p) for p in parts]
    except:
        return None

def extract_ip_features(ip_str, X_train=None):
    octets = parse_ip(ip_str)
    if not octets:
        return None
    first_octet = octets[0]
    ip_class = 1 if first_octet <= 127 else 2 if first_octet <= 191 else 3 if first_octet <= 223 else 0
    is_private = int(is_private_ip(ip_str))

    features_dict = {
        'avg_rtt': X_train['avg_rtt'].mean() if X_train is not None else 0,
        'min_rtt': X_train['min_rtt'].mean() if X_train is not None else 0,
        'max_rtt': X_train['max_rtt'].mean() if X_train is not None else 0,
        'octet_1': octets[0],
        'octet_2': octets[1],
        'octet_3': octets[2],
        'octet_4': octets[3],
        'is_private': is_private,
        'ip_class': ip_class,
        'reverse_dns': X_train['reverse_dns'].mode()[0] if X_train is not None else 0
    }

    features = pd.DataFrame([features_dict])
    for col in model_features:
        if col not in features.columns:
            features[col] = 0
    features = features[model_features]
    return features

# ===============================
# ✅ PREDICTION FUNCTION
# ===============================
def predict_ip(mode, ip_single="", ip_multiple="", csv_file=None):
    ip_list = []
    all_features = []

    if hasattr(model, 'X_train_mean_'):
        X_train_mean = model.X_train_mean_
    else:
        X_train_mean = None

    if mode == "Single IP":
        if not ip_single.strip():
            return "❌ Please enter an IP!", None
        ip_list.append(ip_single.strip())
        all_features.append(extract_ip_features(ip_single.strip(), X_train_mean))

    elif mode == "Multiple IPs":
        if not ip_multiple.strip():
            return "❌ Please enter IPs separated by commas!", None
        ips = [ip.strip() for ip in ip_multiple.split(",") if ip.strip()]
        ip_list.extend(ips)
        for ip in ips:
            all_features.append(extract_ip_features(ip, X_train_mean))

    elif mode == "CSV Upload":
        if csv_file is None:
            return "❌ Please upload a CSV file!", None
        input_df = pd.read_csv(csv_file.name)
        if 'IP' not in input_df.columns:
            return "❌ CSV must have a column named 'IP'", None
        for ip in input_df['IP']:
            ip_list.append(str(ip).strip())
            all_features.append(extract_ip_features(str(ip).strip(), X_train_mean))
    else:
        return "❌ Invalid mode selected.", None

    df_input = pd.concat(all_features, ignore_index=True)
    results = []

    for i, ip in enumerate(ip_list):
        if is_private_ip(ip):
            results.append({
                'Input_IP': ip,
                'City': "Private IP — Location cannot be found",
                'Confidence (%)': 0.0,
                'Error Bound (%)': 100.0
            })
        elif is_public_dns_ip(ip):
            results.append({
                'Input_IP': ip,
                'City': f"{PUBLIC_DNS_IPS[ip]} — Global Service, No Location Prediction",
                'Confidence (%)': 0.0,
                'Error Bound (%)': 100.0
            })
        else:
            pred = model.predict(df_input.iloc[[i]])[0]
            confidence = model.predict_proba(df_input.iloc[[i]])[0].max() if hasattr(model, 'predict_proba') else 1.0
            error_bound = (1 - confidence) * 100
            results.append({
                'Input_IP': ip,
                'City': pred,
                'Confidence (%)': round(confidence * 100, 2),
                'Error Bound (%)': round(error_bound, 2)
            })

    result_df = pd.DataFrame(results)
    fig, ax = plt.subplots(figsize=(6, 4))
    ax.bar(result_df['Input_IP'], result_df['Confidence (%)'], color='skyblue')
    ax.set_ylabel("Confidence (%)")
    ax.set_xlabel("IP")
    ax.set_title("Prediction Confidence per IP")
    plt.xticks(rotation=45)
    plt.tight_layout()
    return result_df, fig

# ===============================
# ✅ GRADIO INTERFACE WITH ABOUT + LOGIN + DASHBOARD
# ===============================
with gr.Blocks() as demo:
    gr.Markdown("# 🌍 GEOSTHIRA IP Geolocation System")
    gr.Markdown("### 🧭 A Smart AI-driven Model to Predict Approximate City from Public IPs")
    gr.Markdown(
        "This project predicts **geographical city-level location** from public IP data using trained ML models. "
        "It automatically handles private and public DNS IPs, ensuring accuracy and privacy. "
        "Users can explore model predictions interactively below."
    )
    gr.Markdown("🔒 Please login or create a new account to continue:")

    logged_in = gr.State(False)
    current_user = gr.State("")

    with gr.Row():
        with gr.Column():
            gr.Markdown("#### 🔑 Login to Continue")
            login_user = gr.Textbox(label="Username")
            login_pass = gr.Textbox(label="Password", type="password")
            login_btn = gr.Button("Login")
            login_msg = gr.Markdown()

        with gr.Column():
            gr.Markdown("#### 🆕 New User? Register Here")
            signup_user = gr.Textbox(label="Create Username")
            signup_pass = gr.Textbox(label="Create Password", type="password")
            signup_btn = gr.Button("Signup")
            signup_msg = gr.Markdown()

    gr.Markdown("---")

    with gr.Group(visible=False) as dashboard:
        gr.Markdown("## 🖥️ Prediction Dashboard")
        mode = gr.Radio(["Single IP", "Multiple IPs", "CSV Upload"], label="Select Input Mode")
        ip_single = gr.Textbox(label="Enter IP (Single IP mode only)")
        ip_multiple = gr.Textbox(label="Enter IPs separated by commas (Multiple IPs mode)")
        csv_file = gr.File(label="Upload CSV file (column name must be 'IP')", file_types=[".csv"])
        output_table = gr.Dataframe(headers=["Input_IP", "City", "Confidence (%)", "Error Bound (%)"], label="Prediction Results")
        output_plot = gr.Plot(label="Confidence Chart")
        btn = gr.Button("Predict")
        btn.click(fn=predict_ip, inputs=[mode, ip_single, ip_multiple, csv_file], outputs=[output_table, output_plot])

    # Login and Signup Functions
    def handle_signup(username, password):
        if not username or not password:
            return "⚠️ Please fill all fields!"
        return save_user(username, password)

    def handle_login(username, password):
        if verify_login(username, password):
            return "✅ Login successful! Welcome.", True, username, gr.update(visible=True)
        else:
            return "❌ Invalid username or password.", False, "", gr.update(visible=False)

    signup_btn.click(fn=handle_signup, inputs=[signup_user, signup_pass], outputs=signup_msg)
    login_btn.click(fn=handle_login, inputs=[login_user, login_pass], outputs=[login_msg, logged_in, current_user, dashboard])

demo.launch()
