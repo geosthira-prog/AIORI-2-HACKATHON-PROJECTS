# ===============================
# ✅ IMPORT LIBRARIES
# ===============================
import gradio as gr
import joblib
import ipaddress
import pandas as pd
import numpy as np
import matplotlib.pyplot as plt

# ===============================
# ✅ LOAD MODEL
# ===============================
model_file_path = "/content/drive/MyDrive/Colab Notebooks/trained_model_RF.pkl"
model = joblib.load(model_file_path)
model_features = getattr(model, 'feature_names_in_')
print("✅ Model loaded successfully!")

# ===============================
# ✅ HELPER FUNCTIONS
# ===============================
def is_private_ip(ip_str):
    try:
        return ipaddress.ip_address(ip_str).is_private
    except:
        return False

def parse_ip(ip_str):
    try:
        parts = ip_str.split('.')
        if len(parts) != 4:
            return None
        return [int(p) for p in parts]
    except:
        return None

def extract_ip_features(ip_str, X_train=None):
    octets = parse_ip(ip_str)
    if not octets:
        return None

    # Determine IP class
    first_octet = octets[0]
    ip_class = 1 if first_octet <= 127 else 2 if first_octet <= 191 else 3 if first_octet <= 223 else 0
    is_private = int(is_private_ip(ip_str))

    # Numeric features: use mean of training set
    features_dict = {
        'avg_rtt': X_train['avg_rtt'].mean() if X_train is not None else 0,
        'min_rtt': X_train['min_rtt'].mean() if X_train is not None else 0,
        'max_rtt': X_train['max_rtt'].mean() if X_train is not None else 0,
        'octet_1': octets[0],
        'octet_2': octets[1],
        'octet_3': octets[2],
        'octet_4': octets[3],
        'is_private': is_private,
        'ip_class': ip_class,
        'reverse_dns': X_train['reverse_dns'].mode()[0] if X_train is not None else 0
    }

    features = pd.DataFrame([features_dict])
    for col in model_features:
        if col not in features.columns:
            features[col] = 0
    features = features[model_features]
    return features

# ===============================
# ✅ PREDICTION FUNCTION
# ===============================
def predict_ip(mode, ip_single="", ip_multiple="", csv_file=None):
    ip_list = []
    all_features = []

    # Access training data for feature estimation
    if hasattr(model, 'X_train_mean_'):
        X_train_mean = model.X_train_mean_
    else:
        X_train_mean = None

    if mode == "Single IP":
        if not ip_single.strip():
            return "❌ Please enter an IP!", None
        ip_list.append(ip_single.strip())
        all_features.append(extract_ip_features(ip_single.strip(), X_train_mean))

    elif mode == "Multiple IPs":
        if not ip_multiple.strip():
            return "❌ Please enter IPs separated by commas!", None
        ips = [ip.strip() for ip in ip_multiple.split(",") if ip.strip()]
        ip_list.extend(ips)
        for ip in ips:
            all_features.append(extract_ip_features(ip, X_train_mean))

    elif mode == "CSV Upload":
        if csv_file is None:
            return "❌ Please upload a CSV file!", None
        input_df = pd.read_csv(csv_file.name)
        if 'IP' not in input_df.columns:
            return "❌ CSV must have a column named 'IP'", None
        for ip in input_df['IP']:
            ip_list.append(str(ip).strip())
            all_features.append(extract_ip_features(str(ip).strip(), X_train_mean))
    else:
        return "❌ Invalid mode selected.", None

    df_input = pd.concat(all_features, ignore_index=True)
    results = []
    for i, ip in enumerate(ip_list):
        if is_private_ip(ip):
            results.append({
                'Input_IP': ip,
                'City': "Private IP — Location cannot be found",
                'Confidence (%)': 0.0,
                'Error Bound (%)': 100.0
            })
        else:
            pred = model.predict(df_input.iloc[[i]])[0]
            confidence = model.predict_proba(df_input.iloc[[i]])[0].max() if hasattr(model, 'predict_proba') else 1.0
            error_bound = (1 - confidence) * 100
            results.append({
                'Input_IP': ip,
                'City': pred,
                'Confidence (%)': round(confidence*100, 2),
                'Error Bound (%)': round(error_bound, 2)
            })

    result_df = pd.DataFrame(results)

    # Plot confidence bar chart
    fig, ax = plt.subplots(figsize=(6,4))
    ax.bar(result_df['Input_IP'], result_df['Confidence (%)'], color='skyblue')
    ax.set_ylabel("Confidence (%)")
    ax.set_xlabel("IP")
    ax.set_title("Prediction Confidence per IP")
    plt.xticks(rotation=45)
    plt.tight_layout()

    return result_df, fig

# ===============================
# ✅ GRADIO INTERFACE
# ===============================
with gr.Blocks() as demo:
    gr.Markdown("## 🌍 IP Location Predictor Dashboard")

    mode = gr.Radio(["Single IP", "Multiple IPs", "CSV Upload"], label="Select Input Mode")
    ip_single = gr.Textbox(label="Enter IP (Single IP mode only)")
    ip_multiple = gr.Textbox(label="Enter IPs separated by commas (Multiple IPs mode)")
    csv_file = gr.File(label="Upload CSV file (column name must be 'IP')", file_types=[".csv"])

    output_table = gr.Dataframe(headers=["Input_IP", "City", "Confidence (%)", "Error Bound (%)"], label="Prediction Results")
    output_plot = gr.Plot(label="Confidence Chart")
    btn = gr.Button("Predict")

    btn.click(fn=predict_ip, inputs=[mode, ip_single, ip_multiple, csv_file], outputs=[output_table, output_plot])

demo.launch()
